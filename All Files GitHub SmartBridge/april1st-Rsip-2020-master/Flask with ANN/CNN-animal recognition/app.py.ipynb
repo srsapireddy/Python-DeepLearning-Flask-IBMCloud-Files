{
 "cells": [
  {
   "cell_type": "code",
   "execution_count": null,
   "metadata": {},
   "outputs": [],
   "source": [
    "import numpy as np\n",
    "import os\n",
    "from keras.models import load_model\n",
    "from keras.preprocessing import image\n",
    "import tensorflow as tf\n",
    "global graph\n",
    "graph = tf.get_default_graph()\n",
    "from flask import Flask , request, render_template\n",
    "from werkzeug.utils import secure_filename\n",
    "from gevent.pywsgi import WSGIServer\n",
    "\n",
    "app = Flask(__name__)\n",
    "model = load_model(\"animal.h5\")\n",
    "\n",
    "@app.route('/')\n",
    "def index():\n",
    "    return render_template('base.html')\n",
    "\n",
    "@app.route('/predict',methods = ['GET','POST'])\n",
    "def upload():\n",
    "    if request.method == 'POST':\n",
    "        f = request.files['image']\n",
    "        print(\"current path\")\n",
    "        basepath = os.path.dirname(__file__)\n",
    "        print(\"current path\", basepath)\n",
    "        filepath = os.path.join(basepath,'uploads',f.filename)\n",
    "        print(\"upload folder is \", filepath)\n",
    "        f.save(filepath)\n",
    "        \n",
    "        img = image.load_img(filepath,target_size = (64,64))\n",
    "        x = image.img_to_array(img)\n",
    "        x = np.expand_dims(x,axis =0)\n",
    "        \n",
    "        with graph.as_default():\n",
    "            preds = model.predict_classes(x)\n",
    "            4\n",
    "            \n",
    "            print(\"prediction\",preds)\n",
    "            \n",
    "        index = ['bears','crows','elephants','racoons','rats']\n",
    "        \n",
    "        text = \"the predicted animal is : \" + str(index[preds[0]])\n",
    "        \n",
    "    return text\n",
    "if __name__ == '__main__':\n",
    "    app.run(debug = False, threaded = False)\n",
    "        \n",
    "        \n",
    "        \n",
    "    \n",
    "    \n",
    "    "
   ]
  }
 ],
 "metadata": {
  "kernelspec": {
   "display_name": "Python 3",
   "language": "python",
   "name": "python3"
  },
  "language_info": {
   "codemirror_mode": {
    "name": "ipython",
    "version": 3
   },
   "file_extension": ".py",
   "mimetype": "text/x-python",
   "name": "python",
   "nbconvert_exporter": "python",
   "pygments_lexer": "ipython3",
   "version": "3.7.4"
  }
 },
 "nbformat": 4,
 "nbformat_minor": 2
}
