{
 "cells": [
  {
   "cell_type": "code",
   "execution_count": 1,
   "metadata": {},
   "outputs": [],
   "source": [
    "import numpy as np\n",
    "import pandas as pd"
   ]
  },
  {
   "cell_type": "code",
   "execution_count": 2,
   "metadata": {},
   "outputs": [],
   "source": [
    "dataset = pd.read_csv(\"50_startups.csv\")"
   ]
  },
  {
   "cell_type": "code",
   "execution_count": 3,
   "metadata": {},
   "outputs": [
    {
     "data": {
      "text/html": [
       "<div>\n",
       "<style scoped>\n",
       "    .dataframe tbody tr th:only-of-type {\n",
       "        vertical-align: middle;\n",
       "    }\n",
       "\n",
       "    .dataframe tbody tr th {\n",
       "        vertical-align: top;\n",
       "    }\n",
       "\n",
       "    .dataframe thead th {\n",
       "        text-align: right;\n",
       "    }\n",
       "</style>\n",
       "<table border=\"1\" class=\"dataframe\">\n",
       "  <thead>\n",
       "    <tr style=\"text-align: right;\">\n",
       "      <th></th>\n",
       "      <th>R&amp;D Spend</th>\n",
       "      <th>Administration</th>\n",
       "      <th>Marketing Spend</th>\n",
       "      <th>State</th>\n",
       "      <th>Profit</th>\n",
       "    </tr>\n",
       "  </thead>\n",
       "  <tbody>\n",
       "    <tr>\n",
       "      <td>0</td>\n",
       "      <td>165349.2</td>\n",
       "      <td>136897.80</td>\n",
       "      <td>471784.10</td>\n",
       "      <td>New York</td>\n",
       "      <td>192261.83</td>\n",
       "    </tr>\n",
       "    <tr>\n",
       "      <td>1</td>\n",
       "      <td>162597.7</td>\n",
       "      <td>151377.59</td>\n",
       "      <td>443898.53</td>\n",
       "      <td>California</td>\n",
       "      <td>191792.06</td>\n",
       "    </tr>\n",
       "  </tbody>\n",
       "</table>\n",
       "</div>"
      ],
      "text/plain": [
       "   R&D Spend  Administration  Marketing Spend       State     Profit\n",
       "0   165349.2       136897.80        471784.10    New York  192261.83\n",
       "1   162597.7       151377.59        443898.53  California  191792.06"
      ]
     },
     "execution_count": 3,
     "metadata": {},
     "output_type": "execute_result"
    }
   ],
   "source": [
    "dataset.head(2)"
   ]
  },
  {
   "cell_type": "code",
   "execution_count": 4,
   "metadata": {},
   "outputs": [
    {
     "data": {
      "text/plain": [
       "R&D Spend          False\n",
       "Administration     False\n",
       "Marketing Spend    False\n",
       "State              False\n",
       "Profit             False\n",
       "dtype: bool"
      ]
     },
     "execution_count": 4,
     "metadata": {},
     "output_type": "execute_result"
    }
   ],
   "source": [
    "dataset.isnull().any()"
   ]
  },
  {
   "cell_type": "code",
   "execution_count": 5,
   "metadata": {},
   "outputs": [],
   "source": [
    "from sklearn.preprocessing import LabelEncoder\n",
    "le = LabelEncoder()\n",
    "dataset['State'] = le.fit_transform(dataset['State'])"
   ]
  },
  {
   "cell_type": "code",
   "execution_count": 6,
   "metadata": {},
   "outputs": [
    {
     "data": {
      "text/html": [
       "<div>\n",
       "<style scoped>\n",
       "    .dataframe tbody tr th:only-of-type {\n",
       "        vertical-align: middle;\n",
       "    }\n",
       "\n",
       "    .dataframe tbody tr th {\n",
       "        vertical-align: top;\n",
       "    }\n",
       "\n",
       "    .dataframe thead th {\n",
       "        text-align: right;\n",
       "    }\n",
       "</style>\n",
       "<table border=\"1\" class=\"dataframe\">\n",
       "  <thead>\n",
       "    <tr style=\"text-align: right;\">\n",
       "      <th></th>\n",
       "      <th>R&amp;D Spend</th>\n",
       "      <th>Administration</th>\n",
       "      <th>Marketing Spend</th>\n",
       "      <th>State</th>\n",
       "      <th>Profit</th>\n",
       "    </tr>\n",
       "  </thead>\n",
       "  <tbody>\n",
       "    <tr>\n",
       "      <td>0</td>\n",
       "      <td>165349.20</td>\n",
       "      <td>136897.80</td>\n",
       "      <td>471784.10</td>\n",
       "      <td>2</td>\n",
       "      <td>192261.83</td>\n",
       "    </tr>\n",
       "    <tr>\n",
       "      <td>1</td>\n",
       "      <td>162597.70</td>\n",
       "      <td>151377.59</td>\n",
       "      <td>443898.53</td>\n",
       "      <td>0</td>\n",
       "      <td>191792.06</td>\n",
       "    </tr>\n",
       "    <tr>\n",
       "      <td>2</td>\n",
       "      <td>153441.51</td>\n",
       "      <td>101145.55</td>\n",
       "      <td>407934.54</td>\n",
       "      <td>1</td>\n",
       "      <td>191050.39</td>\n",
       "    </tr>\n",
       "    <tr>\n",
       "      <td>3</td>\n",
       "      <td>144372.41</td>\n",
       "      <td>118671.85</td>\n",
       "      <td>383199.62</td>\n",
       "      <td>2</td>\n",
       "      <td>182901.99</td>\n",
       "    </tr>\n",
       "    <tr>\n",
       "      <td>4</td>\n",
       "      <td>142107.34</td>\n",
       "      <td>91391.77</td>\n",
       "      <td>366168.42</td>\n",
       "      <td>1</td>\n",
       "      <td>166187.94</td>\n",
       "    </tr>\n",
       "  </tbody>\n",
       "</table>\n",
       "</div>"
      ],
      "text/plain": [
       "   R&D Spend  Administration  Marketing Spend  State     Profit\n",
       "0  165349.20       136897.80        471784.10      2  192261.83\n",
       "1  162597.70       151377.59        443898.53      0  191792.06\n",
       "2  153441.51       101145.55        407934.54      1  191050.39\n",
       "3  144372.41       118671.85        383199.62      2  182901.99\n",
       "4  142107.34        91391.77        366168.42      1  166187.94"
      ]
     },
     "execution_count": 6,
     "metadata": {},
     "output_type": "execute_result"
    }
   ],
   "source": [
    "dataset.head()"
   ]
  },
  {
   "cell_type": "code",
   "execution_count": 7,
   "metadata": {},
   "outputs": [],
   "source": [
    "x  = dataset.iloc[:,0:4].values\n",
    "y = dataset.iloc[:,4:5].values"
   ]
  },
  {
   "cell_type": "code",
   "execution_count": 8,
   "metadata": {},
   "outputs": [
    {
     "name": "stderr",
     "output_type": "stream",
     "text": [
      "C:\\Users\\prads\\Anaconda3\\lib\\site-packages\\sklearn\\preprocessing\\_encoders.py:415: FutureWarning: The handling of integer data will change in version 0.22. Currently, the categories are determined based on the range [0, max(values)], while in the future they will be determined based on the unique values.\n",
      "If you want the future behaviour and silence this warning, you can specify \"categories='auto'\".\n",
      "In case you used a LabelEncoder before this OneHotEncoder to convert the categories to integers, then you can now use the OneHotEncoder directly.\n",
      "  warnings.warn(msg, FutureWarning)\n",
      "C:\\Users\\prads\\Anaconda3\\lib\\site-packages\\sklearn\\preprocessing\\_encoders.py:451: DeprecationWarning: The 'categorical_features' keyword is deprecated in version 0.20 and will be removed in 0.22. You can use the ColumnTransformer instead.\n",
      "  \"use the ColumnTransformer instead.\", DeprecationWarning)\n"
     ]
    }
   ],
   "source": [
    "from sklearn.preprocessing import OneHotEncoder\n",
    "one = OneHotEncoder(categorical_features = [3])\n",
    "x = one.fit_transform(x).toarray()"
   ]
  },
  {
   "cell_type": "raw",
   "metadata": {},
   "source": [
    "from sklearn.preprocessing import OneHotEncoder\n",
    "one=OneHotEncoder()\n",
    "z=one.fit_transform(x[:,3:4]).toarray()\n",
    "\n",
    "x=np.delete(x,3,axis=1)\n",
    "x=np.concatenate((z,x),axis=1)\n"
   ]
  },
  {
   "cell_type": "code",
   "execution_count": 9,
   "metadata": {},
   "outputs": [
    {
     "ename": "NameError",
     "evalue": "name 'x_train' is not defined",
     "output_type": "error",
     "traceback": [
      "\u001b[1;31m---------------------------------------------------------------------------\u001b[0m",
      "\u001b[1;31mNameError\u001b[0m                                 Traceback (most recent call last)",
      "\u001b[1;32m<ipython-input-9-2132a220a582>\u001b[0m in \u001b[0;36m<module>\u001b[1;34m\u001b[0m\n\u001b[1;32m----> 1\u001b[1;33m \u001b[0mx_train\u001b[0m\u001b[1;33m.\u001b[0m\u001b[0mshape\u001b[0m\u001b[1;33m\u001b[0m\u001b[1;33m\u001b[0m\u001b[0m\n\u001b[0m",
      "\u001b[1;31mNameError\u001b[0m: name 'x_train' is not defined"
     ]
    }
   ],
   "source": [
    "x_train.shape"
   ]
  },
  {
   "cell_type": "code",
   "execution_count": 10,
   "metadata": {},
   "outputs": [],
   "source": [
    "from sklearn.model_selection import train_test_split\n",
    "x_train,x_test,y_train,y_test = train_test_split(x,y, test_size = 0.2, random_state = 0)"
   ]
  },
  {
   "cell_type": "code",
   "execution_count": 11,
   "metadata": {},
   "outputs": [
    {
     "name": "stderr",
     "output_type": "stream",
     "text": [
      "Using TensorFlow backend.\n",
      "C:\\Users\\prads\\Anaconda3\\lib\\site-packages\\tensorflow\\python\\framework\\dtypes.py:516: FutureWarning: Passing (type, 1) or '1type' as a synonym of type is deprecated; in a future version of numpy, it will be understood as (type, (1,)) / '(1,)type'.\n",
      "  _np_qint8 = np.dtype([(\"qint8\", np.int8, 1)])\n",
      "C:\\Users\\prads\\Anaconda3\\lib\\site-packages\\tensorflow\\python\\framework\\dtypes.py:517: FutureWarning: Passing (type, 1) or '1type' as a synonym of type is deprecated; in a future version of numpy, it will be understood as (type, (1,)) / '(1,)type'.\n",
      "  _np_quint8 = np.dtype([(\"quint8\", np.uint8, 1)])\n",
      "C:\\Users\\prads\\Anaconda3\\lib\\site-packages\\tensorflow\\python\\framework\\dtypes.py:518: FutureWarning: Passing (type, 1) or '1type' as a synonym of type is deprecated; in a future version of numpy, it will be understood as (type, (1,)) / '(1,)type'.\n",
      "  _np_qint16 = np.dtype([(\"qint16\", np.int16, 1)])\n",
      "C:\\Users\\prads\\Anaconda3\\lib\\site-packages\\tensorflow\\python\\framework\\dtypes.py:519: FutureWarning: Passing (type, 1) or '1type' as a synonym of type is deprecated; in a future version of numpy, it will be understood as (type, (1,)) / '(1,)type'.\n",
      "  _np_quint16 = np.dtype([(\"quint16\", np.uint16, 1)])\n",
      "C:\\Users\\prads\\Anaconda3\\lib\\site-packages\\tensorflow\\python\\framework\\dtypes.py:520: FutureWarning: Passing (type, 1) or '1type' as a synonym of type is deprecated; in a future version of numpy, it will be understood as (type, (1,)) / '(1,)type'.\n",
      "  _np_qint32 = np.dtype([(\"qint32\", np.int32, 1)])\n",
      "C:\\Users\\prads\\Anaconda3\\lib\\site-packages\\tensorflow\\python\\framework\\dtypes.py:525: FutureWarning: Passing (type, 1) or '1type' as a synonym of type is deprecated; in a future version of numpy, it will be understood as (type, (1,)) / '(1,)type'.\n",
      "  np_resource = np.dtype([(\"resource\", np.ubyte, 1)])\n",
      "C:\\Users\\prads\\Anaconda3\\lib\\site-packages\\tensorboard\\compat\\tensorflow_stub\\dtypes.py:541: FutureWarning: Passing (type, 1) or '1type' as a synonym of type is deprecated; in a future version of numpy, it will be understood as (type, (1,)) / '(1,)type'.\n",
      "  _np_qint8 = np.dtype([(\"qint8\", np.int8, 1)])\n",
      "C:\\Users\\prads\\Anaconda3\\lib\\site-packages\\tensorboard\\compat\\tensorflow_stub\\dtypes.py:542: FutureWarning: Passing (type, 1) or '1type' as a synonym of type is deprecated; in a future version of numpy, it will be understood as (type, (1,)) / '(1,)type'.\n",
      "  _np_quint8 = np.dtype([(\"quint8\", np.uint8, 1)])\n",
      "C:\\Users\\prads\\Anaconda3\\lib\\site-packages\\tensorboard\\compat\\tensorflow_stub\\dtypes.py:543: FutureWarning: Passing (type, 1) or '1type' as a synonym of type is deprecated; in a future version of numpy, it will be understood as (type, (1,)) / '(1,)type'.\n",
      "  _np_qint16 = np.dtype([(\"qint16\", np.int16, 1)])\n",
      "C:\\Users\\prads\\Anaconda3\\lib\\site-packages\\tensorboard\\compat\\tensorflow_stub\\dtypes.py:544: FutureWarning: Passing (type, 1) or '1type' as a synonym of type is deprecated; in a future version of numpy, it will be understood as (type, (1,)) / '(1,)type'.\n",
      "  _np_quint16 = np.dtype([(\"quint16\", np.uint16, 1)])\n",
      "C:\\Users\\prads\\Anaconda3\\lib\\site-packages\\tensorboard\\compat\\tensorflow_stub\\dtypes.py:545: FutureWarning: Passing (type, 1) or '1type' as a synonym of type is deprecated; in a future version of numpy, it will be understood as (type, (1,)) / '(1,)type'.\n",
      "  _np_qint32 = np.dtype([(\"qint32\", np.int32, 1)])\n",
      "C:\\Users\\prads\\Anaconda3\\lib\\site-packages\\tensorboard\\compat\\tensorflow_stub\\dtypes.py:550: FutureWarning: Passing (type, 1) or '1type' as a synonym of type is deprecated; in a future version of numpy, it will be understood as (type, (1,)) / '(1,)type'.\n",
      "  np_resource = np.dtype([(\"resource\", np.ubyte, 1)])\n"
     ]
    }
   ],
   "source": [
    "import keras\n",
    "from keras.models import Sequential\n",
    "from keras.layers import Dense\n"
   ]
  },
  {
   "cell_type": "code",
   "execution_count": 12,
   "metadata": {},
   "outputs": [
    {
     "name": "stdout",
     "output_type": "stream",
     "text": [
      "WARNING:tensorflow:From C:\\Users\\prads\\Anaconda3\\lib\\site-packages\\keras\\backend\\tensorflow_backend.py:74: The name tf.get_default_graph is deprecated. Please use tf.compat.v1.get_default_graph instead.\n",
      "\n"
     ]
    }
   ],
   "source": [
    "regressor = Sequential()"
   ]
  },
  {
   "cell_type": "code",
   "execution_count": 13,
   "metadata": {},
   "outputs": [
    {
     "data": {
      "text/plain": [
       "(40, 6)"
      ]
     },
     "execution_count": 13,
     "metadata": {},
     "output_type": "execute_result"
    }
   ],
   "source": [
    "x_train.shape"
   ]
  },
  {
   "cell_type": "code",
   "execution_count": 39,
   "metadata": {},
   "outputs": [
    {
     "name": "stderr",
     "output_type": "stream",
     "text": [
      "C:\\Users\\prads\\Anaconda3\\lib\\site-packages\\ipykernel_launcher.py:1: UserWarning: Update your `Dense` call to the Keras 2 API: `Dense(units=6, activation=\"relu\", kernel_initializer=\"random_uniform\")`\n",
      "  \"\"\"Entry point for launching an IPython kernel.\n"
     ]
    }
   ],
   "source": [
    "regressor.add(Dense(units = 6,init = 'random_uniform',activation = 'relu'))"
   ]
  },
  {
   "cell_type": "code",
   "execution_count": 40,
   "metadata": {},
   "outputs": [
    {
     "name": "stderr",
     "output_type": "stream",
     "text": [
      "C:\\Users\\prads\\Anaconda3\\lib\\site-packages\\ipykernel_launcher.py:1: UserWarning: Update your `Dense` call to the Keras 2 API: `Dense(units=7, activation=\"relu\", kernel_initializer=\"random_uniform\")`\n",
      "  \"\"\"Entry point for launching an IPython kernel.\n"
     ]
    }
   ],
   "source": [
    "regressor.add(Dense(units = 7,init = 'random_uniform',activation = 'relu'))"
   ]
  },
  {
   "cell_type": "code",
   "execution_count": 41,
   "metadata": {},
   "outputs": [
    {
     "name": "stderr",
     "output_type": "stream",
     "text": [
      "C:\\Users\\prads\\Anaconda3\\lib\\site-packages\\ipykernel_launcher.py:1: UserWarning: Update your `Dense` call to the Keras 2 API: `Dense(units=8, activation=\"relu\", kernel_initializer=\"random_uniform\")`\n",
      "  \"\"\"Entry point for launching an IPython kernel.\n"
     ]
    }
   ],
   "source": [
    "regressor.add(Dense(units = 8,init = 'random_uniform',activation = 'relu'))"
   ]
  },
  {
   "cell_type": "code",
   "execution_count": 42,
   "metadata": {},
   "outputs": [
    {
     "name": "stderr",
     "output_type": "stream",
     "text": [
      "C:\\Users\\prads\\Anaconda3\\lib\\site-packages\\ipykernel_launcher.py:1: UserWarning: Update your `Dense` call to the Keras 2 API: `Dense(units=9, activation=\"relu\", kernel_initializer=\"random_uniform\")`\n",
      "  \"\"\"Entry point for launching an IPython kernel.\n"
     ]
    }
   ],
   "source": [
    "regressor.add(Dense(units = 9,init = 'random_uniform',activation = 'relu'))"
   ]
  },
  {
   "cell_type": "code",
   "execution_count": 43,
   "metadata": {},
   "outputs": [
    {
     "name": "stderr",
     "output_type": "stream",
     "text": [
      "C:\\Users\\prads\\Anaconda3\\lib\\site-packages\\ipykernel_launcher.py:1: UserWarning: Update your `Dense` call to the Keras 2 API: `Dense(units=1, kernel_initializer=\"random_uniform\")`\n",
      "  \"\"\"Entry point for launching an IPython kernel.\n"
     ]
    }
   ],
   "source": [
    "regressor.add(Dense(units = 1,init = 'random_uniform'))"
   ]
  },
  {
   "cell_type": "code",
   "execution_count": 44,
   "metadata": {},
   "outputs": [],
   "source": [
    "regressor.compile (optimizer = 'adam',loss = 'mse',metrics = ['mse'])"
   ]
  },
  {
   "cell_type": "code",
   "execution_count": 45,
   "metadata": {},
   "outputs": [
    {
     "name": "stdout",
     "output_type": "stream",
     "text": [
      "Epoch 1/170\n",
      "40/40 [==============================] - 2s 38ms/step - loss: 13615990784.0000 - mean_squared_error: 13615990784.0000\n",
      "Epoch 2/170\n",
      "40/40 [==============================] - 0s 425us/step - loss: 13615976448.0000 - mean_squared_error: 13615976448.0000\n",
      "Epoch 3/170\n",
      "40/40 [==============================] - 0s 375us/step - loss: 13615948032.0000 - mean_squared_error: 13615948032.0000\n",
      "Epoch 4/170\n",
      "40/40 [==============================] - 0s 974us/step - loss: 13615888640.0000 - mean_squared_error: 13615888640.0000\n",
      "Epoch 5/170\n",
      "40/40 [==============================] - 0s 650us/step - loss: 13615781632.0000 - mean_squared_error: 13615781632.0000\n",
      "Epoch 6/170\n",
      "40/40 [==============================] - 0s 575us/step - loss: 13615597824.0000 - mean_squared_error: 13615597824.0000\n",
      "Epoch 7/170\n",
      "40/40 [==============================] - 0s 300us/step - loss: 13615285504.0000 - mean_squared_error: 13615285504.0000\n",
      "Epoch 8/170\n",
      "40/40 [==============================] - 0s 688us/step - loss: 13614729984.0000 - mean_squared_error: 13614729984.0000\n",
      "Epoch 9/170\n",
      "40/40 [==============================] - 0s 525us/step - loss: 13613835264.0000 - mean_squared_error: 13613835264.0000\n",
      "Epoch 10/170\n",
      "40/40 [==============================] - 0s 351us/step - loss: 13612204288.0000 - mean_squared_error: 13612204288.0000\n",
      "Epoch 11/170\n",
      "40/40 [==============================] - 0s 300us/step - loss: 13609910272.0000 - mean_squared_error: 13609910272.0000\n",
      "Epoch 12/170\n",
      "40/40 [==============================] - 0s 626us/step - loss: 13605997312.0000 - mean_squared_error: 13605997312.0000\n",
      "Epoch 13/170\n",
      "40/40 [==============================] - 0s 400us/step - loss: 13600300032.0000 - mean_squared_error: 13600300032.0000\n",
      "Epoch 14/170\n",
      "40/40 [==============================] - 0s 350us/step - loss: 13590768384.0000 - mean_squared_error: 13590768384.0000\n",
      "Epoch 15/170\n",
      "40/40 [==============================] - 0s 401us/step - loss: 13577310976.0000 - mean_squared_error: 13577310976.0000\n",
      "Epoch 16/170\n",
      "40/40 [==============================] - 0s 475us/step - loss: 13556905472.0000 - mean_squared_error: 13556905472.0000\n",
      "Epoch 17/170\n",
      "40/40 [==============================] - 0s 400us/step - loss: 13528181504.0000 - mean_squared_error: 13528181504.0000\n",
      "Epoch 18/170\n",
      "40/40 [==============================] - 0s 425us/step - loss: 13481598976.0000 - mean_squared_error: 13481598976.0000\n",
      "Epoch 19/170\n",
      "40/40 [==============================] - 0s 351us/step - loss: 13424635136.0000 - mean_squared_error: 13424635136.0000\n",
      "Epoch 20/170\n",
      "40/40 [==============================] - 0s 475us/step - loss: 13336818432.0000 - mean_squared_error: 13336818432.0000\n",
      "Epoch 21/170\n",
      "40/40 [==============================] - 0s 551us/step - loss: 13210554368.0000 - mean_squared_error: 13210554368.0000\n",
      "Epoch 22/170\n",
      "40/40 [==============================] - 0s 850us/step - loss: 13032256768.0000 - mean_squared_error: 13032256768.0000\n",
      "Epoch 23/170\n",
      "40/40 [==============================] - 0s 376us/step - loss: 12802002432.0000 - mean_squared_error: 12802002432.0000\n",
      "Epoch 24/170\n",
      "40/40 [==============================] - 0s 375us/step - loss: 12488286720.0000 - mean_squared_error: 12488286720.0000\n",
      "Epoch 25/170\n",
      "40/40 [==============================] - 0s 575us/step - loss: 12037533952.0000 - mean_squared_error: 12037533952.0000\n",
      "Epoch 26/170\n",
      "40/40 [==============================] - 0s 426us/step - loss: 11513236864.0000 - mean_squared_error: 11513236864.0000\n",
      "Epoch 27/170\n",
      "40/40 [==============================] - 0s 550us/step - loss: 10701518976.0000 - mean_squared_error: 10701518976.0000\n",
      "Epoch 28/170\n",
      "40/40 [==============================] - 0s 475us/step - loss: 9831520768.0000 - mean_squared_error: 9831520768.0000\n",
      "Epoch 29/170\n",
      "40/40 [==============================] - 0s 376us/step - loss: 8756199808.0000 - mean_squared_error: 8756199808.0000\n",
      "Epoch 30/170\n",
      "40/40 [==============================] - 0s 450us/step - loss: 7337240576.0000 - mean_squared_error: 7337240576.0000\n",
      "Epoch 31/170\n",
      "40/40 [==============================] - 0s 476us/step - loss: 5683065984.0000 - mean_squared_error: 5683065984.0000\n",
      "Epoch 32/170\n",
      "40/40 [==============================] - 0s 450us/step - loss: 4078902208.0000 - mean_squared_error: 4078902208.0000\n",
      "Epoch 33/170\n",
      "40/40 [==============================] - 0s 475us/step - loss: 2329670304.0000 - mean_squared_error: 2329670304.0000\n",
      "Epoch 34/170\n",
      "40/40 [==============================] - 0s 425us/step - loss: 973052208.0000 - mean_squared_error: 973052208.0000\n",
      "Epoch 35/170\n",
      "40/40 [==============================] - 0s 375us/step - loss: 303686518.0000 - mean_squared_error: 303686518.0000\n",
      "Epoch 36/170\n",
      "40/40 [==============================] - 0s 375us/step - loss: 294221928.0000 - mean_squared_error: 294221928.0000\n",
      "Epoch 37/170\n",
      "40/40 [==============================] - 0s 388us/step - loss: 565186392.0000 - mean_squared_error: 565186392.0000\n",
      "Epoch 38/170\n",
      "40/40 [==============================] - 0s 400us/step - loss: 511476056.0000 - mean_squared_error: 511476056.0000\n",
      "Epoch 39/170\n",
      "40/40 [==============================] - 0s 626us/step - loss: 300506164.0000 - mean_squared_error: 300506164.0000\n",
      "Epoch 40/170\n",
      "40/40 [==============================] - 0s 425us/step - loss: 205753778.0000 - mean_squared_error: 205753778.0000\n",
      "Epoch 41/170\n",
      "40/40 [==============================] - 0s 452us/step - loss: 215133570.0000 - mean_squared_error: 215133570.0000\n",
      "Epoch 42/170\n",
      "40/40 [==============================] - 0s 725us/step - loss: 237447760.0000 - mean_squared_error: 237447760.0000\n",
      "Epoch 43/170\n",
      "40/40 [==============================] - 0s 425us/step - loss: 239556996.0000 - mean_squared_error: 239556996.0000\n",
      "Epoch 44/170\n",
      "40/40 [==============================] - 0s 1ms/step - loss: 222538562.0000 - mean_squared_error: 222538562.0000\n",
      "Epoch 45/170\n",
      "40/40 [==============================] - 0s 450us/step - loss: 207326752.0000 - mean_squared_error: 207326752.0000\n",
      "Epoch 46/170\n",
      "40/40 [==============================] - 0s 400us/step - loss: 201812528.0000 - mean_squared_error: 201812528.0000\n",
      "Epoch 47/170\n",
      "40/40 [==============================] - 0s 576us/step - loss: 203577248.0000 - mean_squared_error: 203577248.0000\n",
      "Epoch 48/170\n",
      "40/40 [==============================] - 0s 551us/step - loss: 206314568.0000 - mean_squared_error: 206314568.0000\n",
      "Epoch 49/170\n",
      "40/40 [==============================] - 0s 375us/step - loss: 205141852.0000 - mean_squared_error: 205141852.0000\n",
      "Epoch 50/170\n",
      "40/40 [==============================] - 0s 577us/step - loss: 203139004.0000 - mean_squared_error: 203139004.0000\n",
      "Epoch 51/170\n",
      "40/40 [==============================] - 0s 475us/step - loss: 202382488.0000 - mean_squared_error: 202382488.0000\n",
      "Epoch 52/170\n",
      "40/40 [==============================] - 0s 750us/step - loss: 202198544.0000 - mean_squared_error: 202198544.0000\n",
      "Epoch 53/170\n",
      "40/40 [==============================] - 0s 325us/step - loss: 201519482.0000 - mean_squared_error: 201519482.0000\n",
      "Epoch 54/170\n",
      "40/40 [==============================] - 0s 450us/step - loss: 200703282.0000 - mean_squared_error: 200703282.0000\n",
      "Epoch 55/170\n",
      "40/40 [==============================] - 0s 350us/step - loss: 200594450.0000 - mean_squared_error: 200594450.0000\n",
      "Epoch 56/170\n",
      "40/40 [==============================] - 0s 701us/step - loss: 200974912.0000 - mean_squared_error: 200974912.0000\n",
      "Epoch 57/170\n",
      "40/40 [==============================] - 0s 425us/step - loss: 200204408.0000 - mean_squared_error: 200204408.0000\n",
      "Epoch 58/170\n",
      "40/40 [==============================] - 0s 450us/step - loss: 199297400.0000 - mean_squared_error: 199297400.0000\n",
      "Epoch 59/170\n",
      "40/40 [==============================] - 0s 425us/step - loss: 199506356.0000 - mean_squared_error: 199506356.0000\n",
      "Epoch 60/170\n",
      "40/40 [==============================] - 0s 300us/step - loss: 198906022.0000 - mean_squared_error: 198906022.0000\n",
      "Epoch 61/170\n",
      "40/40 [==============================] - 0s 600us/step - loss: 198595412.0000 - mean_squared_error: 198595412.0000\n",
      "Epoch 62/170\n",
      "40/40 [==============================] - 0s 526us/step - loss: 198834936.0000 - mean_squared_error: 198834936.0000\n",
      "Epoch 63/170\n",
      "40/40 [==============================] - 0s 350us/step - loss: 198282523.0000 - mean_squared_error: 198282523.0000\n",
      "Epoch 64/170\n",
      "40/40 [==============================] - 0s 801us/step - loss: 198270702.0000 - mean_squared_error: 198270702.0000\n",
      "Epoch 65/170\n",
      "40/40 [==============================] - 0s 350us/step - loss: 196946048.0000 - mean_squared_error: 196946048.0000\n",
      "Epoch 66/170\n",
      "40/40 [==============================] - 0s 426us/step - loss: 196651380.0000 - mean_squared_error: 196651380.0000\n",
      "Epoch 67/170\n",
      "40/40 [==============================] - 0s 425us/step - loss: 196495974.0000 - mean_squared_error: 196495974.0000\n",
      "Epoch 68/170\n",
      "40/40 [==============================] - 0s 551us/step - loss: 195865704.0000 - mean_squared_error: 195865704.0000\n",
      "Epoch 69/170\n",
      "40/40 [==============================] - 0s 325us/step - loss: 195551750.0000 - mean_squared_error: 195551750.0000\n",
      "Epoch 70/170\n",
      "40/40 [==============================] - 0s 375us/step - loss: 195011944.0000 - mean_squared_error: 195011944.0000\n",
      "Epoch 71/170\n",
      "40/40 [==============================] - ETA: 0s - loss: 340413344.0000 - mean_squared_error: 340413344.00 - 0s 1ms/step - loss: 195170292.0000 - mean_squared_error: 195170292.0000\n",
      "Epoch 72/170\n",
      "40/40 [==============================] - 0s 350us/step - loss: 194968464.0000 - mean_squared_error: 194968464.0000\n",
      "Epoch 73/170\n",
      "40/40 [==============================] - 0s 850us/step - loss: 194506090.0000 - mean_squared_error: 194506090.0000\n",
      "Epoch 74/170\n",
      "40/40 [==============================] - 0s 605us/step - loss: 194192888.0000 - mean_squared_error: 194192888.0000\n",
      "Epoch 75/170\n",
      "40/40 [==============================] - 0s 750us/step - loss: 194045730.0000 - mean_squared_error: 194045730.0000\n",
      "Epoch 76/170\n",
      "40/40 [==============================] - 0s 425us/step - loss: 193391926.0000 - mean_squared_error: 193391926.0000\n",
      "Epoch 77/170\n",
      "40/40 [==============================] - 0s 700us/step - loss: 192609304.0000 - mean_squared_error: 192609304.0000\n",
      "Epoch 78/170\n",
      "40/40 [==============================] - 0s 600us/step - loss: 192633284.0000 - mean_squared_error: 192633284.0000\n",
      "Epoch 79/170\n",
      "40/40 [==============================] - 0s 775us/step - loss: 192158492.0000 - mean_squared_error: 192158492.0000\n",
      "Epoch 80/170\n",
      "40/40 [==============================] - 0s 725us/step - loss: 191559044.0000 - mean_squared_error: 191559044.0000\n",
      "Epoch 81/170\n",
      "40/40 [==============================] - 0s 450us/step - loss: 191315588.0000 - mean_squared_error: 191315588.0000\n",
      "Epoch 82/170\n",
      "40/40 [==============================] - 0s 325us/step - loss: 191062732.0000 - mean_squared_error: 191062732.0000\n",
      "Epoch 83/170\n",
      "40/40 [==============================] - 0s 625us/step - loss: 190568734.0000 - mean_squared_error: 190568734.0000\n",
      "Epoch 84/170\n",
      "40/40 [==============================] - 0s 350us/step - loss: 191506244.0000 - mean_squared_error: 191506244.0000\n",
      "Epoch 85/170\n",
      "40/40 [==============================] - 0s 425us/step - loss: 192193776.0000 - mean_squared_error: 192193776.0000\n",
      "Epoch 86/170\n",
      "40/40 [==============================] - 0s 400us/step - loss: 189468326.0000 - mean_squared_error: 189468326.0000\n",
      "Epoch 87/170\n",
      "40/40 [==============================] - 0s 325us/step - loss: 189722462.0000 - mean_squared_error: 189722462.0000\n",
      "Epoch 88/170\n",
      "40/40 [==============================] - 0s 325us/step - loss: 189470412.0000 - mean_squared_error: 189470412.0000\n",
      "Epoch 89/170\n",
      "40/40 [==============================] - 0s 525us/step - loss: 190178676.0000 - mean_squared_error: 190178676.0000\n",
      "Epoch 90/170\n",
      "40/40 [==============================] - 0s 375us/step - loss: 188154244.0000 - mean_squared_error: 188154244.0000\n",
      "Epoch 91/170\n",
      "40/40 [==============================] - 0s 2ms/step - loss: 187681760.0000 - mean_squared_error: 187681760.0000\n",
      "Epoch 92/170\n",
      "40/40 [==============================] - 0s 375us/step - loss: 188798106.0000 - mean_squared_error: 188798106.0000\n",
      "Epoch 93/170\n",
      "40/40 [==============================] - 0s 450us/step - loss: 187436344.0000 - mean_squared_error: 187436344.0000\n",
      "Epoch 94/170\n",
      "40/40 [==============================] - 0s 551us/step - loss: 186840506.0000 - mean_squared_error: 186840506.0000\n",
      "Epoch 95/170\n",
      "40/40 [==============================] - 0s 350us/step - loss: 187079498.0000 - mean_squared_error: 187079498.0000\n",
      "Epoch 96/170\n",
      "40/40 [==============================] - 0s 375us/step - loss: 186574393.0000 - mean_squared_error: 186574393.0000\n",
      "Epoch 97/170\n",
      "40/40 [==============================] - 0s 325us/step - loss: 186485758.0000 - mean_squared_error: 186485758.0000\n",
      "Epoch 98/170\n",
      "40/40 [==============================] - 0s 326us/step - loss: 187480326.0000 - mean_squared_error: 187480326.0000\n",
      "Epoch 99/170\n",
      "40/40 [==============================] - 0s 376us/step - loss: 185383452.0000 - mean_squared_error: 185383452.0000\n",
      "Epoch 100/170\n",
      "40/40 [==============================] - 0s 375us/step - loss: 185184128.0000 - mean_squared_error: 185184128.0000\n",
      "Epoch 101/170\n",
      "40/40 [==============================] - 0s 376us/step - loss: 184714584.0000 - mean_squared_error: 184714584.0000\n",
      "Epoch 102/170\n",
      "40/40 [==============================] - 0s 325us/step - loss: 184457756.0000 - mean_squared_error: 184457756.0000\n",
      "Epoch 103/170\n",
      "40/40 [==============================] - 0s 400us/step - loss: 184155860.0000 - mean_squared_error: 184155860.0000\n",
      "Epoch 104/170\n",
      "40/40 [==============================] - 0s 976us/step - loss: 183757294.0000 - mean_squared_error: 183757294.0000\n",
      "Epoch 105/170\n",
      "40/40 [==============================] - 0s 400us/step - loss: 183418874.0000 - mean_squared_error: 183418874.0000\n",
      "Epoch 106/170\n",
      "40/40 [==============================] - 0s 400us/step - loss: 183470416.0000 - mean_squared_error: 183470416.0000\n",
      "Epoch 107/170\n",
      "40/40 [==============================] - 0s 375us/step - loss: 183510078.0000 - mean_squared_error: 183510078.0000\n",
      "Epoch 108/170\n",
      "40/40 [==============================] - 0s 300us/step - loss: 183218905.0000 - mean_squared_error: 183218905.0000\n",
      "Epoch 109/170\n",
      "40/40 [==============================] - 0s 425us/step - loss: 182241676.0000 - mean_squared_error: 182241676.0000\n",
      "Epoch 110/170\n",
      "40/40 [==============================] - 0s 300us/step - loss: 182531200.0000 - mean_squared_error: 182531200.0000\n",
      "Epoch 111/170\n",
      "40/40 [==============================] - 0s 401us/step - loss: 182181028.0000 - mean_squared_error: 182181028.0000\n",
      "Epoch 112/170\n",
      "40/40 [==============================] - 0s 400us/step - loss: 181443032.0000 - mean_squared_error: 181443032.0000\n",
      "Epoch 113/170\n",
      "40/40 [==============================] - 0s 325us/step - loss: 182241600.0000 - mean_squared_error: 182241600.0000\n",
      "Epoch 114/170\n",
      "40/40 [==============================] - 0s 426us/step - loss: 180520850.0000 - mean_squared_error: 180520850.0000\n",
      "Epoch 115/170\n",
      "40/40 [==============================] - 0s 526us/step - loss: 180155076.0000 - mean_squared_error: 180155076.0000\n",
      "Epoch 116/170\n",
      "40/40 [==============================] - ETA: 0s - loss: 182818528.0000 - mean_squared_error: 182818528.00 - 0s 450us/step - loss: 179906328.0000 - mean_squared_error: 179906328.0000\n",
      "Epoch 117/170\n",
      "40/40 [==============================] - 0s 425us/step - loss: 179947108.0000 - mean_squared_error: 179947108.0000\n",
      "Epoch 118/170\n",
      "40/40 [==============================] - 0s 575us/step - loss: 179624694.0000 - mean_squared_error: 179624694.0000\n",
      "Epoch 119/170\n",
      "40/40 [==============================] - 0s 326us/step - loss: 178975956.0000 - mean_squared_error: 178975956.0000\n",
      "Epoch 120/170\n",
      "40/40 [==============================] - 0s 350us/step - loss: 179288390.0000 - mean_squared_error: 179288390.0000\n",
      "Epoch 121/170\n",
      "40/40 [==============================] - 0s 500us/step - loss: 178849830.0000 - mean_squared_error: 178849830.0000\n",
      "Epoch 122/170\n",
      "40/40 [==============================] - 0s 325us/step - loss: 178167448.0000 - mean_squared_error: 178167448.0000\n",
      "Epoch 123/170\n",
      "40/40 [==============================] - 0s 300us/step - loss: 178464956.0000 - mean_squared_error: 178464956.0000\n",
      "Epoch 124/170\n",
      "40/40 [==============================] - 0s 376us/step - loss: 177961716.0000 - mean_squared_error: 177961716.0000\n",
      "Epoch 125/170\n",
      "40/40 [==============================] - 0s 637us/step - loss: 177208394.0000 - mean_squared_error: 177208394.0000\n",
      "Epoch 126/170\n"
     ]
    },
    {
     "name": "stdout",
     "output_type": "stream",
     "text": [
      "40/40 [==============================] - 0s 525us/step - loss: 177589886.0000 - mean_squared_error: 177589886.0000\n",
      "Epoch 127/170\n",
      "40/40 [==============================] - 0s 450us/step - loss: 177098006.0000 - mean_squared_error: 177098006.0000\n",
      "Epoch 128/170\n",
      "40/40 [==============================] - 0s 550us/step - loss: 178080460.0000 - mean_squared_error: 178080460.0000\n",
      "Epoch 129/170\n",
      "40/40 [==============================] - 0s 425us/step - loss: 176113650.0000 - mean_squared_error: 176113650.0000\n",
      "Epoch 130/170\n",
      "40/40 [==============================] - 0s 500us/step - loss: 179100976.0000 - mean_squared_error: 179100976.0000\n",
      "Epoch 131/170\n",
      "40/40 [==============================] - 0s 375us/step - loss: 176907708.0000 - mean_squared_error: 176907708.0000\n",
      "Epoch 132/170\n",
      "40/40 [==============================] - 0s 350us/step - loss: 175174106.0000 - mean_squared_error: 175174106.0000\n",
      "Epoch 133/170\n",
      "40/40 [==============================] - 0s 425us/step - loss: 175675948.0000 - mean_squared_error: 175675948.0000\n",
      "Epoch 134/170\n",
      "40/40 [==============================] - 0s 450us/step - loss: 176490996.0000 - mean_squared_error: 176490996.0000\n",
      "Epoch 135/170\n",
      "40/40 [==============================] - 0s 700us/step - loss: 176091592.0000 - mean_squared_error: 176091592.0000\n",
      "Epoch 136/170\n",
      "40/40 [==============================] - 0s 475us/step - loss: 174938708.0000 - mean_squared_error: 174938708.0000\n",
      "Epoch 137/170\n",
      "40/40 [==============================] - 0s 575us/step - loss: 174884892.0000 - mean_squared_error: 174884892.0000\n",
      "Epoch 138/170\n",
      "40/40 [==============================] - 0s 650us/step - loss: 174496188.0000 - mean_squared_error: 174496188.0000\n",
      "Epoch 139/170\n",
      "40/40 [==============================] - 0s 550us/step - loss: 173397834.0000 - mean_squared_error: 173397834.0000\n",
      "Epoch 140/170\n",
      "40/40 [==============================] - ETA: 0s - loss: 95852200.0000 - mean_squared_error: 95852200.00 - 0s 425us/step - loss: 173930910.0000 - mean_squared_error: 173930910.0000\n",
      "Epoch 141/170\n",
      "40/40 [==============================] - 0s 974us/step - loss: 172947880.0000 - mean_squared_error: 172947880.0000\n",
      "Epoch 142/170\n",
      "40/40 [==============================] - 0s 575us/step - loss: 174097566.0000 - mean_squared_error: 174097566.0000\n",
      "Epoch 143/170\n",
      "40/40 [==============================] - 0s 500us/step - loss: 172901744.0000 - mean_squared_error: 172901744.0000\n",
      "Epoch 144/170\n",
      "40/40 [==============================] - 0s 325us/step - loss: 172224402.0000 - mean_squared_error: 172224402.0000\n",
      "Epoch 145/170\n",
      "40/40 [==============================] - 0s 501us/step - loss: 172807526.0000 - mean_squared_error: 172807526.0000\n",
      "Epoch 146/170\n",
      "40/40 [==============================] - 0s 400us/step - loss: 172599352.0000 - mean_squared_error: 172599352.0000\n",
      "Epoch 147/170\n",
      "40/40 [==============================] - 0s 325us/step - loss: 172449642.0000 - mean_squared_error: 172449642.0000\n",
      "Epoch 148/170\n",
      "40/40 [==============================] - 0s 450us/step - loss: 171307430.0000 - mean_squared_error: 171307430.0000\n",
      "Epoch 149/170\n",
      "40/40 [==============================] - 0s 375us/step - loss: 170812724.0000 - mean_squared_error: 170812724.0000\n",
      "Epoch 150/170\n",
      "40/40 [==============================] - 0s 325us/step - loss: 171558596.0000 - mean_squared_error: 171558596.0000\n",
      "Epoch 151/170\n",
      "40/40 [==============================] - 0s 350us/step - loss: 170848041.0000 - mean_squared_error: 170848041.0000\n",
      "Epoch 152/170\n",
      "40/40 [==============================] - 0s 450us/step - loss: 171050346.0000 - mean_squared_error: 171050346.0000\n",
      "Epoch 153/170\n",
      "40/40 [==============================] - 0s 502us/step - loss: 170039622.0000 - mean_squared_error: 170039622.0000\n",
      "Epoch 154/170\n",
      "40/40 [==============================] - 0s 400us/step - loss: 169624176.0000 - mean_squared_error: 169624176.0000\n",
      "Epoch 155/170\n",
      "40/40 [==============================] - 0s 375us/step - loss: 170079648.0000 - mean_squared_error: 170079648.0000\n",
      "Epoch 156/170\n",
      "40/40 [==============================] - 0s 475us/step - loss: 170359550.0000 - mean_squared_error: 170359550.0000\n",
      "Epoch 157/170\n",
      "40/40 [==============================] - 0s 375us/step - loss: 169460858.0000 - mean_squared_error: 169460858.0000\n",
      "Epoch 158/170\n",
      "40/40 [==============================] - 0s 575us/step - loss: 168721354.0000 - mean_squared_error: 168721354.0000\n",
      "Epoch 159/170\n",
      "40/40 [==============================] - 0s 450us/step - loss: 169157046.0000 - mean_squared_error: 169157046.0000\n",
      "Epoch 160/170\n",
      "40/40 [==============================] - 0s 500us/step - loss: 169399758.0000 - mean_squared_error: 169399758.0000\n",
      "Epoch 161/170\n",
      "40/40 [==============================] - 0s 375us/step - loss: 169023858.0000 - mean_squared_error: 169023858.0000\n",
      "Epoch 162/170\n",
      "40/40 [==============================] - 0s 476us/step - loss: 168013594.0000 - mean_squared_error: 168013594.0000\n",
      "Epoch 163/170\n",
      "40/40 [==============================] - 0s 375us/step - loss: 167938736.0000 - mean_squared_error: 167938736.0000\n",
      "Epoch 164/170\n",
      "40/40 [==============================] - 0s 325us/step - loss: 167737734.0000 - mean_squared_error: 167737734.0000\n",
      "Epoch 165/170\n",
      "40/40 [==============================] - 0s 426us/step - loss: 167373730.0000 - mean_squared_error: 167373730.0000\n",
      "Epoch 166/170\n",
      "40/40 [==============================] - 0s 575us/step - loss: 168977152.0000 - mean_squared_error: 168977152.0000\n",
      "Epoch 167/170\n",
      "40/40 [==============================] - 0s 425us/step - loss: 168110312.0000 - mean_squared_error: 168110312.0000\n",
      "Epoch 168/170\n",
      "40/40 [==============================] - 0s 400us/step - loss: 167273494.0000 - mean_squared_error: 167273494.0000\n",
      "Epoch 169/170\n",
      "40/40 [==============================] - 0s 450us/step - loss: 167353660.0000 - mean_squared_error: 167353660.0000\n",
      "Epoch 170/170\n",
      "40/40 [==============================] - 0s 425us/step - loss: 166516952.0000 - mean_squared_error: 166516952.0000\n"
     ]
    },
    {
     "data": {
      "text/plain": [
       "<keras.callbacks.History at 0x219fec3e908>"
      ]
     },
     "execution_count": 45,
     "metadata": {},
     "output_type": "execute_result"
    }
   ],
   "source": [
    "regressor.fit(x_train,y_train , batch_size = 10,epochs = 170)"
   ]
  },
  {
   "cell_type": "code",
   "execution_count": 46,
   "metadata": {},
   "outputs": [],
   "source": [
    "y_pred = regressor.predict(x_test)"
   ]
  },
  {
   "cell_type": "code",
   "execution_count": 47,
   "metadata": {},
   "outputs": [
    {
     "data": {
      "text/plain": [
       "array([[116365.43 ],\n",
       "       [119471.74 ],\n",
       "       [124441.9  ],\n",
       "       [ 65145.734],\n",
       "       [171558.27 ],\n",
       "       [127810.805],\n",
       "       [ 56516.977],\n",
       "       [ 99466.6  ],\n",
       "       [121300.54 ],\n",
       "       [156726.   ]], dtype=float32)"
      ]
     },
     "execution_count": 47,
     "metadata": {},
     "output_type": "execute_result"
    }
   ],
   "source": [
    "y_pred"
   ]
  },
  {
   "cell_type": "code",
   "execution_count": 48,
   "metadata": {},
   "outputs": [
    {
     "data": {
      "text/plain": [
       "array([[103282.38],\n",
       "       [144259.4 ],\n",
       "       [146121.95],\n",
       "       [ 77798.83],\n",
       "       [191050.39],\n",
       "       [105008.31],\n",
       "       [ 81229.06],\n",
       "       [ 97483.56],\n",
       "       [110352.25],\n",
       "       [166187.94]])"
      ]
     },
     "execution_count": 48,
     "metadata": {},
     "output_type": "execute_result"
    }
   ],
   "source": [
    "y_test"
   ]
  },
  {
   "cell_type": "code",
   "execution_count": 49,
   "metadata": {},
   "outputs": [],
   "source": [
    "from sklearn.metrics import r2_score\n",
    "accuracy = r2_score(y_test,y_pred)"
   ]
  },
  {
   "cell_type": "code",
   "execution_count": 50,
   "metadata": {},
   "outputs": [
    {
     "data": {
      "text/plain": [
       "0.7545038851592614"
      ]
     },
     "execution_count": 50,
     "metadata": {},
     "output_type": "execute_result"
    }
   ],
   "source": [
    "accuracy"
   ]
  },
  {
   "cell_type": "markdown",
   "metadata": {},
   "source": [
    "model.save('regressor.h5')"
   ]
  },
  {
   "cell_type": "code",
   "execution_count": null,
   "metadata": {},
   "outputs": [],
   "source": [
    "regressor.save('regressor.h5')"
   ]
  },
  {
   "cell_type": "code",
   "execution_count": null,
   "metadata": {},
   "outputs": [],
   "source": [
    "x_train.shape"
   ]
  },
  {
   "cell_type": "code",
   "execution_count": 51,
   "metadata": {},
   "outputs": [
    {
     "data": {
      "text/plain": [
       "array([[58150.477]], dtype=float32)"
      ]
     },
     "execution_count": 51,
     "metadata": {},
     "output_type": "execute_result"
    }
   ],
   "source": [
    "regressor.predict(np.array([[0,1,0,50000,60000,70000]]))"
   ]
  },
  {
   "cell_type": "code",
   "execution_count": null,
   "metadata": {},
   "outputs": [],
   "source": []
  }
 ],
 "metadata": {
  "kernelspec": {
   "display_name": "Python 3",
   "language": "python",
   "name": "python3"
  },
  "language_info": {
   "codemirror_mode": {
    "name": "ipython",
    "version": 3
   },
   "file_extension": ".py",
   "mimetype": "text/x-python",
   "name": "python",
   "nbconvert_exporter": "python",
   "pygments_lexer": "ipython3",
   "version": "3.7.4"
  }
 },
 "nbformat": 4,
 "nbformat_minor": 2
}
